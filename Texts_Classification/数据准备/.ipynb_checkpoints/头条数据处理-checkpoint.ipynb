{
 "cells": [
  {
   "cell_type": "code",
   "execution_count": null,
   "metadata": {},
   "outputs": [],
   "source": [
    "import pickle"
   ]
  },
  {
   "cell_type": "code",
   "execution_count": 1,
   "metadata": {},
   "outputs": [],
   "source": [
    "str_map = \"\"\"100/民生/故事/news_story\n",
    "101/文化/文化/news_culture\n",
    "102/娱乐/娱乐/news_entertainment\n",
    "103/体育/体育/news_sports\n",
    "104/财经/财经/news_finance\n",
    "106/房产/房产/news_house\n",
    "107/汽车/汽车/news_car\n",
    "108/教育/教育/news_edu\n",
    "109/科技/科技/news_tech\n",
    "110/军事/军事/news_military\n",
    "112/旅游/旅游/news_travel\n",
    "113/国际/国际/news_world\n",
    "114/证券/股票/stock\n",
    "115/农业/三农/news_agriculture\n",
    "116/电竞/游戏/news_game\"\"\""
   ]
  },
  {
   "cell_type": "code",
   "execution_count": 2,
   "metadata": {},
   "outputs": [],
   "source": [
    "map_dict = {}\n",
    "for i in str_map.split(\"\\n\"):\n",
    "    map_dict[i.split(\"/\")[3]] = i.split(\"/\")[2]"
   ]
  },
  {
   "cell_type": "code",
   "execution_count": 3,
   "metadata": {},
   "outputs": [
    {
     "data": {
      "text/plain": [
       "{'news_story': '故事',\n",
       " 'news_culture': '文化',\n",
       " 'news_entertainment': '娱乐',\n",
       " 'news_sports': '体育',\n",
       " 'news_finance': '财经',\n",
       " 'news_house': '房产',\n",
       " 'news_car': '汽车',\n",
       " 'news_edu': '教育',\n",
       " 'news_tech': '科技',\n",
       " 'news_military': '军事',\n",
       " 'news_travel': '旅游',\n",
       " 'news_world': '国际',\n",
       " 'stock': '股票',\n",
       " 'news_agriculture': '三农',\n",
       " 'news_game': '游戏'}"
      ]
     },
     "execution_count": 3,
     "metadata": {},
     "output_type": "execute_result"
    }
   ],
   "source": [
    "map_dict"
   ]
  },
  {
   "cell_type": "code",
   "execution_count": 4,
   "metadata": {},
   "outputs": [],
   "source": [
    "all_list = []\n",
    "with open('toutiao_cat_data.txt', 'r', encoding='utf-8') as f:\n",
    "    for line in f.readlines():\n",
    "        line_split = line.strip().split(\"_!_\")\n",
    "        snentence_1 = line_split[-2]\n",
    "        snentence_2 = \"。关键字: \".join([line_split[-2],line_split[-1]])\n",
    "        tag = map_dict[line_split[-3]]\n",
    "#         print(line.strip())\n",
    "#         print(snentence_1)\n",
    "#         print(snentence_2)\n",
    "#         print(tag)\n",
    "        all_list.append([snentence_1,snentence_2,tag])"
   ]
  },
  {
   "cell_type": "code",
   "execution_count": 7,
   "metadata": {},
   "outputs": [],
   "source": [
    "with open(\"toutiao_all_data.pkl\", 'wb') as f:\n",
    "    pickle.dump(all_list, f)"
   ]
  },
  {
   "cell_type": "code",
   "execution_count": 10,
   "metadata": {},
   "outputs": [
    {
     "name": "stdout",
     "output_type": "stream",
     "text": [
      "28119\n",
      "126456\n",
      "208037\n",
      "9981\n",
      "6914\n",
      "3181\n"
     ]
    }
   ],
   "source": [
    "# 查看数据长度\n",
    "n = 0\n",
    "m = 0\n",
    "k = 0\n",
    "l = 0\n",
    "p = 0\n",
    "h = 0\n",
    "for snentence_1,snentence_2,tag in all_list:\n",
    "    length = len(snentence_2)\n",
    "    if length <= 20:\n",
    "        n += 1\n",
    "    elif length>20 and length<=40:\n",
    "        m += 1\n",
    "    elif length>40 and length<=70:\n",
    "        k += 1\n",
    "    elif length>70 and length<=80:\n",
    "        l += 1\n",
    "    elif length>80 and length<=100:\n",
    "        p += 1\n",
    "    else:\n",
    "        h += 1\n",
    "print(n)\n",
    "print(m)\n",
    "print(k)\n",
    "print(l)\n",
    "print(p)\n",
    "print(h)"
   ]
  },
  {
   "cell_type": "code",
   "execution_count": null,
   "metadata": {},
   "outputs": [],
   "source": []
  }
 ],
 "metadata": {
  "kernelspec": {
   "display_name": "Python 3",
   "language": "python",
   "name": "python3"
  },
  "language_info": {
   "codemirror_mode": {
    "name": "ipython",
    "version": 3
   },
   "file_extension": ".py",
   "mimetype": "text/x-python",
   "name": "python",
   "nbconvert_exporter": "python",
   "pygments_lexer": "ipython3",
   "version": "3.6.10"
  }
 },
 "nbformat": 4,
 "nbformat_minor": 4
}
