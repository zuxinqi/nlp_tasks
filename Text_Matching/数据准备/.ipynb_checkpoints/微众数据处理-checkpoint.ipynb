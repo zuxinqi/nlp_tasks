{
 "cells": [
  {
   "cell_type": "code",
   "execution_count": 1,
   "metadata": {},
   "outputs": [],
   "source": [
    "import pandas as pd\n",
    "import pickle"
   ]
  },
  {
   "cell_type": "code",
   "execution_count": 4,
   "metadata": {},
   "outputs": [],
   "source": [
    "def make_data(data_file):\n",
    "    df = pd.read_csv(data_file)\n",
    "    data = []\n",
    "    for index, row in df.iterrows():\n",
    "        data.append([row[\"sentence1\"],row[\"sentence2\"],row[\"label\"]])\n",
    "    return data"
   ]
  },
  {
   "cell_type": "code",
   "execution_count": 5,
   "metadata": {},
   "outputs": [],
   "source": [
    "test_data_file = \"./input/test.csv\"\n",
    "dev_data_file  =  \"./input/dev.csv\"\n",
    "train_data_file = \"./input/train.csv\""
   ]
  },
  {
   "cell_type": "code",
   "execution_count": 6,
   "metadata": {},
   "outputs": [],
   "source": [
    "train_data = make_data(train_data_file)\n",
    "dev_data = make_data(dev_data_file)\n",
    "test_data = make_data(test_data_file)"
   ]
  },
  {
   "cell_type": "code",
   "execution_count": 7,
   "metadata": {},
   "outputs": [],
   "source": [
    "with open(\"wz_data.pkl\", 'wb') as f:\n",
    "    pickle.dump((train_data,dev_data,test_data),f)"
   ]
  },
  {
   "cell_type": "code",
   "execution_count": 8,
   "metadata": {},
   "outputs": [],
   "source": [
    "all_data = train_data + dev_data + test_data"
   ]
  },
  {
   "cell_type": "code",
   "execution_count": 9,
   "metadata": {},
   "outputs": [],
   "source": [
    "m,n,j,k,l = 0,0,0,0,0"
   ]
  },
  {
   "cell_type": "code",
   "execution_count": 10,
   "metadata": {},
   "outputs": [],
   "source": [
    "for s1,s2,t in all_data:\n",
    "    if len(s1) > 0 and len(s1) <= 20:\n",
    "        m += 1\n",
    "    elif len(s1) > 20 and len(s1) <= 40:\n",
    "        n += 1\n",
    "    elif len(s1) > 40 and len(s1) <= 60:\n",
    "        j += 1\n",
    "    elif len(s1) > 60 and len(s1) <= 100:\n",
    "        k += 1\n",
    "    else:\n",
    "        l +=1\n",
    "    \n",
    "    if len(s2) > 0 and len(s2) <= 20:\n",
    "        m += 1\n",
    "    elif len(s2) > 20 and len(s2) <= 40:\n",
    "        n += 1\n",
    "    elif len(s2) > 40 and len(s2) <= 50:\n",
    "        j += 1\n",
    "    elif len(s2) > 50 and len(s2) <= 100:\n",
    "        k += 1\n",
    "    else:\n",
    "        l +=1"
   ]
  },
  {
   "cell_type": "code",
   "execution_count": 11,
   "metadata": {},
   "outputs": [
    {
     "name": "stdout",
     "output_type": "stream",
     "text": [
      "217427 20481 1462 604 26\n"
     ]
    }
   ],
   "source": [
    "print(m,n,j,k,l)"
   ]
  },
  {
   "cell_type": "code",
   "execution_count": null,
   "metadata": {},
   "outputs": [],
   "source": []
  },
  {
   "cell_type": "code",
   "execution_count": null,
   "metadata": {},
   "outputs": [],
   "source": []
  }
 ],
 "metadata": {
  "kernelspec": {
   "display_name": "Python 3",
   "language": "python",
   "name": "python3"
  },
  "language_info": {
   "codemirror_mode": {
    "name": "ipython",
    "version": 3
   },
   "file_extension": ".py",
   "mimetype": "text/x-python",
   "name": "python",
   "nbconvert_exporter": "python",
   "pygments_lexer": "ipython3",
   "version": "3.6.10"
  }
 },
 "nbformat": 4,
 "nbformat_minor": 4
}
