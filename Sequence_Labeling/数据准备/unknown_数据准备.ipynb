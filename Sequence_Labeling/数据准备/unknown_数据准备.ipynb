{
 "cells": [
  {
   "cell_type": "code",
   "execution_count": 1,
   "metadata": {},
   "outputs": [],
   "source": [
    "import pickle"
   ]
  },
  {
   "cell_type": "code",
   "execution_count": 2,
   "metadata": {},
   "outputs": [],
   "source": [
    "# 读出已经存好的data文件\n",
    "train_data = []\n",
    "with open(\"./unknown_source/example.train\", 'r', encoding='utf-8') as f:\n",
    "    sentence = ''\n",
    "    tag = []\n",
    "    for line in f.readlines():\n",
    "        if line.strip() != \"\":\n",
    "            if line[0].strip() == \"\":\n",
    "                s = \" \"\n",
    "                t = line.strip().split(\" \")[-1]\n",
    "                sentence += s\n",
    "                tag.append(t)\n",
    "                continue\n",
    "            s,t = line.strip().split(\" \")\n",
    "            sentence += s\n",
    "            tag.append(t.replace(\"-\",\"_\"))\n",
    "        else:\n",
    "            train_data.append([list(sentence),tag])\n",
    "            sentence = ''\n",
    "            tag = []"
   ]
  },
  {
   "cell_type": "code",
   "execution_count": 3,
   "metadata": {},
   "outputs": [
    {
     "data": {
      "text/plain": [
       "20864"
      ]
     },
     "execution_count": 3,
     "metadata": {},
     "output_type": "execute_result"
    }
   ],
   "source": [
    "len(train_data)"
   ]
  },
  {
   "cell_type": "code",
   "execution_count": 4,
   "metadata": {},
   "outputs": [],
   "source": [
    "# 读出已经存好的data文件\n",
    "test_data = []\n",
    "with open(\"./unknown_source/example.test\", 'r', encoding='utf-8') as f:\n",
    "    sentence = ''\n",
    "    tag = []\n",
    "    for line in f.readlines():\n",
    "        if line.strip() != \"\":\n",
    "            if line[0].strip() == \"\":\n",
    "                s = \" \"\n",
    "                t = line.strip().split(\" \")[-1]\n",
    "                sentence += s\n",
    "                tag.append(t)\n",
    "                continue\n",
    "            s,t = line.strip().split(\" \")\n",
    "            sentence += s\n",
    "            tag.append(t.replace(\"-\",\"_\"))\n",
    "        else:\n",
    "            test_data.append([list(sentence),tag])\n",
    "            sentence = ''\n",
    "            tag = []"
   ]
  },
  {
   "cell_type": "code",
   "execution_count": 5,
   "metadata": {},
   "outputs": [
    {
     "data": {
      "text/plain": [
       "4636"
      ]
     },
     "execution_count": 5,
     "metadata": {},
     "output_type": "execute_result"
    }
   ],
   "source": [
    "len(test_data)"
   ]
  },
  {
   "cell_type": "code",
   "execution_count": 7,
   "metadata": {},
   "outputs": [],
   "source": [
    "all_list = train_data + test_data"
   ]
  },
  {
   "cell_type": "code",
   "execution_count": 10,
   "metadata": {},
   "outputs": [],
   "source": [
    "with open(\"MSRA_ner_all_data.pkl\", 'wb') as f:\n",
    "    pickle.dump(all_list, f)"
   ]
  },
  {
   "cell_type": "code",
   "execution_count": null,
   "metadata": {},
   "outputs": [],
   "source": []
  },
  {
   "cell_type": "code",
   "execution_count": 8,
   "metadata": {},
   "outputs": [
    {
     "data": {
      "text/plain": [
       "[['我',\n",
       "  '们',\n",
       "  '变',\n",
       "  '而',\n",
       "  '以',\n",
       "  '书',\n",
       "  '会',\n",
       "  '友',\n",
       "  '，',\n",
       "  '以',\n",
       "  '书',\n",
       "  '结',\n",
       "  '缘',\n",
       "  '，',\n",
       "  '把',\n",
       "  '欧',\n",
       "  '美',\n",
       "  '、',\n",
       "  '港',\n",
       "  '台',\n",
       "  '流',\n",
       "  '行',\n",
       "  '的',\n",
       "  '食',\n",
       "  '品',\n",
       "  '类',\n",
       "  '图',\n",
       "  '谱',\n",
       "  '、',\n",
       "  '画',\n",
       "  '册',\n",
       "  '、',\n",
       "  '工',\n",
       "  '具',\n",
       "  '书',\n",
       "  '汇',\n",
       "  '集',\n",
       "  '一',\n",
       "  '堂',\n",
       "  '。'],\n",
       " ['O',\n",
       "  'O',\n",
       "  'O',\n",
       "  'O',\n",
       "  'O',\n",
       "  'O',\n",
       "  'O',\n",
       "  'O',\n",
       "  'O',\n",
       "  'O',\n",
       "  'O',\n",
       "  'O',\n",
       "  'O',\n",
       "  'O',\n",
       "  'O',\n",
       "  'B_LOC',\n",
       "  'B_LOC',\n",
       "  'O',\n",
       "  'B_LOC',\n",
       "  'B_LOC',\n",
       "  'O',\n",
       "  'O',\n",
       "  'O',\n",
       "  'O',\n",
       "  'O',\n",
       "  'O',\n",
       "  'O',\n",
       "  'O',\n",
       "  'O',\n",
       "  'O',\n",
       "  'O',\n",
       "  'O',\n",
       "  'O',\n",
       "  'O',\n",
       "  'O',\n",
       "  'O',\n",
       "  'O',\n",
       "  'O',\n",
       "  'O',\n",
       "  'O']]"
      ]
     },
     "execution_count": 8,
     "metadata": {},
     "output_type": "execute_result"
    }
   ],
   "source": [
    "all_list[-4636]"
   ]
  },
  {
   "cell_type": "code",
   "execution_count": null,
   "metadata": {},
   "outputs": [],
   "source": []
  },
  {
   "cell_type": "code",
   "execution_count": null,
   "metadata": {},
   "outputs": [],
   "source": []
  },
  {
   "cell_type": "code",
   "execution_count": null,
   "metadata": {},
   "outputs": [],
   "source": []
  },
  {
   "cell_type": "code",
   "execution_count": null,
   "metadata": {},
   "outputs": [],
   "source": []
  },
  {
   "cell_type": "code",
   "execution_count": 13,
   "metadata": {},
   "outputs": [
    {
     "data": {
      "text/plain": [
       "[['海',\n",
       "  '钓',\n",
       "  '比',\n",
       "  '赛',\n",
       "  '地',\n",
       "  '点',\n",
       "  '在',\n",
       "  '厦',\n",
       "  '门',\n",
       "  '与',\n",
       "  '金',\n",
       "  '门',\n",
       "  '之',\n",
       "  '间',\n",
       "  '的',\n",
       "  '海',\n",
       "  '域',\n",
       "  '。'],\n",
       " ['O',\n",
       "  'O',\n",
       "  'O',\n",
       "  'O',\n",
       "  'O',\n",
       "  'O',\n",
       "  'O',\n",
       "  'B_LOC',\n",
       "  'I_LOC',\n",
       "  'O',\n",
       "  'B_LOC',\n",
       "  'I_LOC',\n",
       "  'O',\n",
       "  'O',\n",
       "  'O',\n",
       "  'O',\n",
       "  'O',\n",
       "  'O']]"
      ]
     },
     "execution_count": 13,
     "metadata": {},
     "output_type": "execute_result"
    }
   ],
   "source": [
    "train_data[0]"
   ]
  },
  {
   "cell_type": "code",
   "execution_count": 8,
   "metadata": {},
   "outputs": [
    {
     "name": "stdout",
     "output_type": "stream",
     "text": [
      "2114\n",
      "8443\n",
      "7279\n",
      "2850\n",
      "118\n",
      "60\n"
     ]
    }
   ],
   "source": [
    "# 查看数据长度\n",
    "n = 0\n",
    "m = 0\n",
    "k = 0\n",
    "l = 0\n",
    "p = 0\n",
    "h = 0\n",
    "for sentences,tags in train_data:\n",
    "    snentence_2 = sentences\n",
    "    length = len(snentence_2)\n",
    "    if length <= 20:\n",
    "        n += 1\n",
    "    elif length>20 and length<=40:\n",
    "        m += 1\n",
    "    elif length>40 and length<=70:\n",
    "        k += 1\n",
    "    elif length>70 and length<=150:\n",
    "        l += 1\n",
    "    elif length>80 and length<=200:\n",
    "        p += 1\n",
    "    else:\n",
    "        h += 1\n",
    "print(n)\n",
    "print(m)\n",
    "print(k)\n",
    "print(l)\n",
    "print(p)\n",
    "print(h)"
   ]
  },
  {
   "cell_type": "code",
   "execution_count": null,
   "metadata": {},
   "outputs": [],
   "source": []
  },
  {
   "cell_type": "code",
   "execution_count": null,
   "metadata": {},
   "outputs": [],
   "source": []
  },
  {
   "cell_type": "code",
   "execution_count": 11,
   "metadata": {},
   "outputs": [
    {
     "ename": "SyntaxError",
     "evalue": "invalid syntax (<ipython-input-11-f5c236194c05>, line 1)",
     "output_type": "error",
     "traceback": [
      "\u001b[1;36m  File \u001b[1;32m\"<ipython-input-11-f5c236194c05>\"\u001b[1;36m, line \u001b[1;32m1\u001b[0m\n\u001b[1;33m    LOC   Rec:95.00%  Pre:95.00%   f1:95.00%  count:  3500\u001b[0m\n\u001b[1;37m            ^\u001b[0m\n\u001b[1;31mSyntaxError\u001b[0m\u001b[1;31m:\u001b[0m invalid syntax\n"
     ]
    }
   ],
   "source": [
    "LOC   Rec:95.00%  Pre:95.00%   f1:95.00%  count:  3500\n",
    "PER   Rec:97.00%  Pre:98.00%   f1:97.00%  count:  1851\n",
    "ORG   Rec:90.00%  Pre:91.00%   f1:90.00%  count:  2185\n"
   ]
  },
  {
   "cell_type": "code",
   "execution_count": 12,
   "metadata": {},
   "outputs": [
    {
     "data": {
      "text/plain": [
       "0.9404153397027601"
      ]
     },
     "execution_count": 12,
     "metadata": {},
     "output_type": "execute_result"
    }
   ],
   "source": [
    "(3500*0.95+1851*0.97+2185*0.9)/(3500+1851+2185)"
   ]
  },
  {
   "cell_type": "code",
   "execution_count": null,
   "metadata": {},
   "outputs": [],
   "source": [
    "LOC   Rec:96.00%  Pre:95.00%   f1:95.00%  count:  3500\n",
    "PER   Rec:98.00%  Pre:99.00%   f1:98.00%  count:  1851\n",
    "ORG   Rec:93.00%  Pre:93.00%   f1:93.00%  count:  2185\n"
   ]
  },
  {
   "cell_type": "code",
   "execution_count": 13,
   "metadata": {},
   "outputs": [
    {
     "data": {
      "text/plain": [
       "0.9515697983014861"
      ]
     },
     "execution_count": 13,
     "metadata": {},
     "output_type": "execute_result"
    }
   ],
   "source": [
    "(3500*0.95+1851*0.98+2185*0.93)/(3500+1851+2185)"
   ]
  },
  {
   "cell_type": "code",
   "execution_count": null,
   "metadata": {},
   "outputs": [],
   "source": []
  },
  {
   "cell_type": "code",
   "execution_count": 14,
   "metadata": {},
   "outputs": [
    {
     "data": {
      "text/plain": [
       "4600.0"
      ]
     },
     "execution_count": 14,
     "metadata": {},
     "output_type": "execute_result"
    }
   ],
   "source": [
    "23000/5"
   ]
  },
  {
   "cell_type": "code",
   "execution_count": 15,
   "metadata": {},
   "outputs": [
    {
     "data": {
      "text/plain": [
       "27600"
      ]
     },
     "execution_count": 15,
     "metadata": {},
     "output_type": "execute_result"
    }
   ],
   "source": [
    "4600*6"
   ]
  },
  {
   "cell_type": "code",
   "execution_count": null,
   "metadata": {},
   "outputs": [],
   "source": [
    "LOC   Rec:96.00%  Pre:96.00%   f1:96.00%  count:  3404\n",
    "PER   Rec:98.00%  Pre:98.00%   f1:98.00%  count:  1795\n",
    "ORG   Rec:93.00%  Pre:93.00%   f1:93.00%  count:  2169\n"
   ]
  },
  {
   "cell_type": "code",
   "execution_count": 16,
   "metadata": {},
   "outputs": [
    {
     "data": {
      "text/plain": [
       "0.9562141719745223"
      ]
     },
     "execution_count": 16,
     "metadata": {},
     "output_type": "execute_result"
    }
   ],
   "source": [
    "(3500*0.96+1851*0.98+2185*0.93)/(3500+1851+2185)"
   ]
  },
  {
   "cell_type": "code",
   "execution_count": null,
   "metadata": {},
   "outputs": [],
   "source": []
  }
 ],
 "metadata": {
  "kernelspec": {
   "display_name": "Python 3",
   "language": "python",
   "name": "python3"
  },
  "language_info": {
   "codemirror_mode": {
    "name": "ipython",
    "version": 3
   },
   "file_extension": ".py",
   "mimetype": "text/x-python",
   "name": "python",
   "nbconvert_exporter": "python",
   "pygments_lexer": "ipython3",
   "version": "3.6.10"
  }
 },
 "nbformat": 4,
 "nbformat_minor": 4
}
